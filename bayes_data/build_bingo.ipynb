{
 "cells": [
  {
   "cell_type": "code",
   "execution_count": 3,
   "metadata": {},
   "outputs": [],
   "source": [
    "import numpy.random as rng\n",
    "import numpy as np"
   ]
  },
  {
   "cell_type": "code",
   "execution_count": 20,
   "metadata": {},
   "outputs": [
    {
     "data": {
      "text/plain": [
       "array([ 3,  8, 13,  4,  2,  6, 17, 12, 14,  9, 18,  1, 16, 15,  7,  0, 19,\n",
       "        5, 10, 11])"
      ]
     },
     "execution_count": 20,
     "metadata": {},
     "output_type": "execute_result"
    }
   ],
   "source": [
    "spencer_draw = rng.choice(np.arange(20), size=20, replace=False)\n",
    "spencer_draw"
   ]
  },
  {
   "cell_type": "code",
   "execution_count": 21,
   "metadata": {},
   "outputs": [
    {
     "data": {
      "text/plain": [
       "array([14, 11,  1,  2, 15,  9,  7, 13,  8,  6, 19, 17, 12, 16, 18, 10,  4,\n",
       "        3,  5,  0])"
      ]
     },
     "execution_count": 21,
     "metadata": {},
     "output_type": "execute_result"
    }
   ],
   "source": [
    "laila_draw = rng.choice(np.arange(20), size=20, replace=False)\n",
    "laila_draw"
   ]
  },
  {
   "cell_type": "code",
   "execution_count": 22,
   "metadata": {},
   "outputs": [],
   "source": [
    "activities = np.array([\"art institute\", \"shedd\", \"lsd path on bike\", \"art class\", \"mexico\",\n",
    "                       \"dinner party\", \"sleeping village\", \"CSO\", \"croissants\", \".5 marathon\", \"camping\", \n",
    "                       \"read book\", \"GOT\", \"roast chicken\", \"grow veggies\", \"garf park\", \"sunrise\",\n",
    "                       \"daisies\", \"read at hopleaf\", \"swim\"])"
   ]
  },
  {
   "cell_type": "code",
   "execution_count": 23,
   "metadata": {},
   "outputs": [
    {
     "data": {
      "text/plain": [
       "array([['art class', 'croissants', 'roast chicken', 'mexico',\n",
       "        'lsd path on bike'],\n",
       "       ['sleeping village', 'daisies', 'GOT', 'grow veggies',\n",
       "        '.5 marathon'],\n",
       "       ['read at hopleaf', 'shedd', 'sunrise', 'garf park', 'CSO'],\n",
       "       ['art institute', 'swim', 'dinner party', 'camping', 'read book']],\n",
       "      dtype='<U16')"
      ]
     },
     "execution_count": 23,
     "metadata": {},
     "output_type": "execute_result"
    }
   ],
   "source": [
    "spencer_bingo = np.array([activities[i] for i in spencer_draw]).reshape(4, 5)\n",
    "spencer_bingo"
   ]
  },
  {
   "cell_type": "code",
   "execution_count": 24,
   "metadata": {},
   "outputs": [
    {
     "data": {
      "text/plain": [
       "array([['grow veggies', 'read book', 'shedd', 'lsd path on bike',\n",
       "        'garf park'],\n",
       "       ['.5 marathon', 'CSO', 'roast chicken', 'croissants',\n",
       "        'sleeping village'],\n",
       "       ['swim', 'daisies', 'GOT', 'sunrise', 'read at hopleaf'],\n",
       "       ['camping', 'mexico', 'art class', 'dinner party',\n",
       "        'art institute']], dtype='<U16')"
      ]
     },
     "execution_count": 24,
     "metadata": {},
     "output_type": "execute_result"
    }
   ],
   "source": [
    "laila_bingo = np.array([activities[i] for i in laila_draw]).reshape(4, 5)\n",
    "laila_bingo"
   ]
  },
  {
   "cell_type": "code",
   "execution_count": null,
   "metadata": {},
   "outputs": [],
   "source": []
  }
 ],
 "metadata": {
  "kernelspec": {
   "display_name": "pymc_env",
   "language": "python",
   "name": "python3"
  },
  "language_info": {
   "codemirror_mode": {
    "name": "ipython",
    "version": 3
   },
   "file_extension": ".py",
   "mimetype": "text/x-python",
   "name": "python",
   "nbconvert_exporter": "python",
   "pygments_lexer": "ipython3",
   "version": "3.11.6"
  }
 },
 "nbformat": 4,
 "nbformat_minor": 2
}
